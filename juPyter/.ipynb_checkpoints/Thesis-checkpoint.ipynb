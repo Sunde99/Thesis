{
 "cells": [
  {
   "cell_type": "code",
   "execution_count": 1,
   "id": "fddaff32",
   "metadata": {},
   "outputs": [],
   "source": [
    "import pandas as pd\n",
    "import tensorflow as tf\n",
    "from tensorflow import keras\n",
    "from PIL import Image"
   ]
  },
  {
   "cell_type": "code",
   "execution_count": 1,
   "id": "77248f72",
   "metadata": {},
   "outputs": [
    {
     "name": "stdout",
     "output_type": "stream",
     "text": [
      "   calories  duration\n",
      "0       420        50\n",
      "1       380        40\n",
      "2       390        45\n"
     ]
    }
   ],
   "source": [
    "# read the CSV file\n",
    "df = pd.read_csv('C:\\\\Users\\\\Matias\\\\_Thesis\\\\Project-Blender\\\\Pictures\\\\Metadata\\\\ImageData.csv')\n",
    "\n",
    "# create a list to hold the data\n",
    "data = []\n",
    "\n",
    "# iterate over the rows of the CSV file\n",
    "for index, row in df.iterrows():\n",
    "    # read in the image\n",
    "    #img = Image.open(row['filename'])\n",
    "    # get the x, y coordinates of the object from the CSV file\n",
    "    #x = row['x']\n",
    "    #y = row['y']\n",
    "    # add the image and coordinates to the data list\n",
    "    #data.append((img, (x, y)))"
   ]
  },
  {
   "cell_type": "code",
   "execution_count": null,
   "id": "04a6a125",
   "metadata": {},
   "outputs": [],
   "source": []
  },
  {
   "cell_type": "code",
   "execution_count": 2,
   "id": "ed2f8d29",
   "metadata": {},
   "outputs": [],
   "source": []
  },
  {
   "cell_type": "code",
   "execution_count": 3,
   "id": "d04969b5",
   "metadata": {},
   "outputs": [
    {
     "data": {
      "text/plain": [
       "3"
      ]
     },
     "execution_count": 3,
     "metadata": {},
     "output_type": "execute_result"
    }
   ],
   "source": []
  },
  {
   "cell_type": "code",
   "execution_count": null,
   "id": "6284d647",
   "metadata": {},
   "outputs": [],
   "source": []
  }
 ],
 "metadata": {
  "kernelspec": {
   "display_name": "Python [conda env:thesis_ml]",
   "language": "python",
   "name": "conda-env-thesis_ml-py"
  },
  "language_info": {
   "codemirror_mode": {
    "name": "ipython",
    "version": 3
   },
   "file_extension": ".py",
   "mimetype": "text/x-python",
   "name": "python",
   "nbconvert_exporter": "python",
   "pygments_lexer": "ipython3",
   "version": "3.9.15"
  }
 },
 "nbformat": 4,
 "nbformat_minor": 5
}
